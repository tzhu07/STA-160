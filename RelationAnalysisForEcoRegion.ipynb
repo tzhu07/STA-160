{
 "cells": [
  {
   "cell_type": "code",
   "execution_count": 1,
   "id": "b97dcd2d",
   "metadata": {},
   "outputs": [
    {
     "name": "stdout",
     "output_type": "stream",
     "text": [
      "DataFrame Info:\n",
      "<class 'pandas.core.frame.DataFrame'>\n",
      "RangeIndex: 13786 entries, 0 to 13785\n",
      "Columns: 3027 entries, hhid to hai13z_5\n",
      "dtypes: category(2659), float64(319), int16(13), int32(4), int8(15), object(17)\n",
      "memory usage: 73.2+ MB\n",
      "None\n",
      "\n",
      "Contents of the STA file:\n",
      "               hhid hv000  hv001  hv002 hv003  hv004   hv005  hv006  hv007  \\\n",
      "0             1   1   NP8      1      1     1      1  934601   magh   2078   \n",
      "1             1   6   NP8      1      6     1      1  934601   magh   2078   \n",
      "2             1   8   NP8      1      8     1      1  934601   magh   2078   \n",
      "3             1   9   NP8      1      9     2      1  934601   magh   2078   \n",
      "4             1  11   NP8      1     11     4      1  934601   magh   2078   \n",
      "...             ...   ...    ...    ...   ...    ...     ...    ...    ...   \n",
      "13781       476 132   NP8    476    132     1    476  481982  poush   2078   \n",
      "13782       476 137   NP8    476    137     1    476  481982  poush   2078   \n",
      "13783       476 142   NP8    476    142     1    476  481982  poush   2078   \n",
      "13784       476 147   NP8    476    147     1    476  481982  poush   2078   \n",
      "13785       476 152   NP8    476    152     1    476  481982  poush   2078   \n",
      "\n",
      "       hv008  ...  hai13x_1  hai13x_2  hai13x_3  hai13x_4  hai13x_5  hai13z_1  \\\n",
      "0       2146  ...       NaN       NaN       NaN       NaN       NaN       NaN   \n",
      "1       2146  ...        no       NaN       NaN       NaN       NaN        no   \n",
      "2       2146  ...       NaN       NaN       NaN       NaN       NaN       NaN   \n",
      "3       2146  ...       NaN       NaN       NaN       NaN       NaN       NaN   \n",
      "4       2146  ...        no       NaN       NaN       NaN       NaN        no   \n",
      "...      ...  ...       ...       ...       ...       ...       ...       ...   \n",
      "13781   2145  ...       NaN       NaN       NaN       NaN       NaN       NaN   \n",
      "13782   2145  ...        no       NaN       NaN       NaN       NaN        no   \n",
      "13783   2145  ...       NaN       NaN       NaN       NaN       NaN       NaN   \n",
      "13784   2145  ...       NaN       NaN       NaN       NaN       NaN       NaN   \n",
      "13785   2145  ...       NaN       NaN       NaN       NaN       NaN       NaN   \n",
      "\n",
      "       hai13z_2 hai13z_3  hai13z_4  hai13z_5  \n",
      "0           NaN      NaN       NaN       NaN  \n",
      "1           NaN      NaN       NaN       NaN  \n",
      "2           NaN      NaN       NaN       NaN  \n",
      "3           NaN      NaN       NaN       NaN  \n",
      "4           NaN      NaN       NaN       NaN  \n",
      "...         ...      ...       ...       ...  \n",
      "13781       NaN      NaN       NaN       NaN  \n",
      "13782       NaN      NaN       NaN       NaN  \n",
      "13783       NaN      NaN       NaN       NaN  \n",
      "13784       NaN      NaN       NaN       NaN  \n",
      "13785       NaN      NaN       NaN       NaN  \n",
      "\n",
      "[13786 rows x 3027 columns]\n"
     ]
    }
   ],
   "source": [
    "import os\n",
    "import pandas as pd\n",
    "\n",
    "# Define the path to the STA file\n",
    "folder_path = \"Nepal/Nepal/Nepal 2022/NP_2022_DHS_11092023_2251_202866/NPHR82DT\"\n",
    "file_name = \"NPHR82FL.DTA\"\n",
    "sta_file_path = os.path.join(folder_path, file_name)\n",
    "\n",
    "# Check if the file exists\n",
    "if os.path.exists(sta_file_path):\n",
    "    # Read the STA file into a pandas DataFrame\n",
    "    df = pd.read_stata(sta_file_path)\n",
    "    \n",
    "    # Display information about the DataFrame\n",
    "    print(\"DataFrame Info:\")\n",
    "    print(df.info())\n",
    "    \n",
    "    # Display the DataFrame\n",
    "    print(\"\\nContents of the STA file:\")\n",
    "    print(df)\n",
    "else:\n",
    "    print(f\"The file {file_name} does not exist in the specified folder.\")"
   ]
  },
  {
   "cell_type": "code",
   "execution_count": 4,
   "id": "f7ccbf03",
   "metadata": {},
   "outputs": [
    {
     "data": {
      "text/html": [
       "<div>\n",
       "<style scoped>\n",
       "    .dataframe tbody tr th:only-of-type {\n",
       "        vertical-align: middle;\n",
       "    }\n",
       "\n",
       "    .dataframe tbody tr th {\n",
       "        vertical-align: top;\n",
       "    }\n",
       "\n",
       "    .dataframe thead th {\n",
       "        text-align: right;\n",
       "    }\n",
       "</style>\n",
       "<table border=\"1\" class=\"dataframe\">\n",
       "  <thead>\n",
       "    <tr style=\"text-align: right;\">\n",
       "      <th></th>\n",
       "      <th>shecoreg</th>\n",
       "      <th>hv009</th>\n",
       "      <th>hv216</th>\n",
       "      <th>RoomProp</th>\n",
       "    </tr>\n",
       "  </thead>\n",
       "  <tbody>\n",
       "    <tr>\n",
       "      <th>0</th>\n",
       "      <td>mountain</td>\n",
       "      <td>7</td>\n",
       "      <td>2</td>\n",
       "      <td>3.500000</td>\n",
       "    </tr>\n",
       "    <tr>\n",
       "      <th>1</th>\n",
       "      <td>mountain</td>\n",
       "      <td>2</td>\n",
       "      <td>1</td>\n",
       "      <td>2.000000</td>\n",
       "    </tr>\n",
       "    <tr>\n",
       "      <th>2</th>\n",
       "      <td>mountain</td>\n",
       "      <td>7</td>\n",
       "      <td>2</td>\n",
       "      <td>3.500000</td>\n",
       "    </tr>\n",
       "    <tr>\n",
       "      <th>3</th>\n",
       "      <td>mountain</td>\n",
       "      <td>6</td>\n",
       "      <td>2</td>\n",
       "      <td>3.000000</td>\n",
       "    </tr>\n",
       "    <tr>\n",
       "      <th>4</th>\n",
       "      <td>mountain</td>\n",
       "      <td>6</td>\n",
       "      <td>3</td>\n",
       "      <td>2.000000</td>\n",
       "    </tr>\n",
       "    <tr>\n",
       "      <th>...</th>\n",
       "      <td>...</td>\n",
       "      <td>...</td>\n",
       "      <td>...</td>\n",
       "      <td>...</td>\n",
       "    </tr>\n",
       "    <tr>\n",
       "      <th>13781</th>\n",
       "      <td>terai</td>\n",
       "      <td>5</td>\n",
       "      <td>2</td>\n",
       "      <td>2.500000</td>\n",
       "    </tr>\n",
       "    <tr>\n",
       "      <th>13782</th>\n",
       "      <td>terai</td>\n",
       "      <td>3</td>\n",
       "      <td>3</td>\n",
       "      <td>1.000000</td>\n",
       "    </tr>\n",
       "    <tr>\n",
       "      <th>13783</th>\n",
       "      <td>terai</td>\n",
       "      <td>4</td>\n",
       "      <td>3</td>\n",
       "      <td>1.333333</td>\n",
       "    </tr>\n",
       "    <tr>\n",
       "      <th>13784</th>\n",
       "      <td>terai</td>\n",
       "      <td>4</td>\n",
       "      <td>2</td>\n",
       "      <td>2.000000</td>\n",
       "    </tr>\n",
       "    <tr>\n",
       "      <th>13785</th>\n",
       "      <td>terai</td>\n",
       "      <td>9</td>\n",
       "      <td>2</td>\n",
       "      <td>4.500000</td>\n",
       "    </tr>\n",
       "  </tbody>\n",
       "</table>\n",
       "<p>13786 rows × 4 columns</p>\n",
       "</div>"
      ],
      "text/plain": [
       "       shecoreg  hv009  hv216  RoomProp\n",
       "0      mountain      7      2  3.500000\n",
       "1      mountain      2      1  2.000000\n",
       "2      mountain      7      2  3.500000\n",
       "3      mountain      6      2  3.000000\n",
       "4      mountain      6      3  2.000000\n",
       "...         ...    ...    ...       ...\n",
       "13781     terai      5      2  2.500000\n",
       "13782     terai      3      3  1.000000\n",
       "13783     terai      4      3  1.333333\n",
       "13784     terai      4      2  2.000000\n",
       "13785     terai      9      2  4.500000\n",
       "\n",
       "[13786 rows x 4 columns]"
      ]
     },
     "execution_count": 4,
     "metadata": {},
     "output_type": "execute_result"
    }
   ],
   "source": [
    "#Create a new dataframe with the classes and the room proportion\n",
    "new_df = df[[\"shecoreg\", \"hv009\", \"hv216\"]].copy()\n",
    "new_df[\"RoomProp\"] = new_df[\"hv009\"]/new_df[\"hv216\"]\n",
    "new_df"
   ]
  },
  {
   "cell_type": "code",
   "execution_count": 5,
   "id": "77b0b100",
   "metadata": {},
   "outputs": [
    {
     "data": {
      "text/plain": [
       "shecoreg\n",
       "hill        6693\n",
       "terai       5828\n",
       "mountain    1265\n",
       "Name: count, dtype: int64"
      ]
     },
     "execution_count": 5,
     "metadata": {},
     "output_type": "execute_result"
    }
   ],
   "source": [
    "new_df[\"shecoreg\"].value_counts()"
   ]
  },
  {
   "cell_type": "code",
   "execution_count": 7,
   "id": "46779c8a",
   "metadata": {},
   "outputs": [
    {
     "data": {
      "text/plain": [
       "shecoreg\n",
       "hill        6693\n",
       "terai       5828\n",
       "mountain       0\n",
       "Name: count, dtype: int64"
      ]
     },
     "execution_count": 7,
     "metadata": {},
     "output_type": "execute_result"
    }
   ],
   "source": [
    "#Because the mountain class is very minimal, we will remove all data pertaining to this class\n",
    "new_df.drop(new_df[new_df[\"shecoreg\"] == \"mountain\"].index, inplace=True)\n",
    "new_df[\"shecoreg\"].value_counts()"
   ]
  },
  {
   "cell_type": "code",
   "execution_count": 9,
   "id": "36d47515",
   "metadata": {},
   "outputs": [
    {
     "data": {
      "image/png": "[encoded data removed]",
      "text/plain": [
       "<Figure size 640x480 with 1 Axes>"
      ]
     },
     "metadata": {},
     "output_type": "display_data"
    }
   ],
   "source": [
    "import seaborn as sns\n",
    "import matplotlib.pyplot as plt\n",
    "#Base visualization of the room proportion\n",
    "# Create a seaborn boxplot\n",
    "sns.boxplot(x='shecoreg', y='RoomProp', data=new_df)\n",
    "\n",
    "# Set labels and title\n",
    "plt.xlabel('Ecological Region')\n",
    "plt.ylabel('# of People Per Sleeping Room')\n",
    "\n",
    "# Show the plot\n",
    "plt.show()"
   ]
  },
  {
   "cell_type": "code",
   "execution_count": 10,
   "id": "eeb782be",
   "metadata": {},
   "outputs": [
    {
     "name": "stdout",
     "output_type": "stream",
     "text": [
      "Original DataFrame:\n",
      "      shecoreg  hv009  hv216  RoomProp\n",
      "172       hill      2      2  1.000000\n",
      "173       hill      6      2  3.000000\n",
      "174       hill      4      1  4.000000\n",
      "175       hill      5      2  2.500000\n",
      "176       hill      5      1  5.000000\n",
      "...        ...    ...    ...       ...\n",
      "13781    terai      5      2  2.500000\n",
      "13782    terai      3      3  1.000000\n",
      "13783    terai      4      3  1.333333\n",
      "13784    terai      4      2  2.000000\n",
      "13785    terai      9      2  4.500000\n",
      "\n",
      "[12521 rows x 4 columns]\n",
      "\n",
      "DataFrame without outliers:\n",
      "      shecoreg  hv009  hv216  RoomProp\n",
      "172       hill      2      2  1.000000\n",
      "173       hill      6      2  3.000000\n",
      "174       hill      4      1  4.000000\n",
      "175       hill      5      2  2.500000\n",
      "176       hill      5      1  5.000000\n",
      "...        ...    ...    ...       ...\n",
      "13781    terai      5      2  2.500000\n",
      "13782    terai      3      3  1.000000\n",
      "13783    terai      4      3  1.333333\n",
      "13784    terai      4      2  2.000000\n",
      "13785    terai      9      2  4.500000\n",
      "\n",
      "[12306 rows x 4 columns]\n",
      "\n",
      "Outliers:\n",
      "      shecoreg  hv009  hv216  RoomProp\n",
      "179       hill      6      1       6.0\n",
      "244       hill      6      1       6.0\n",
      "271       hill      6      1       6.0\n",
      "326       hill      6      1       6.0\n",
      "401       hill      6      1       6.0\n",
      "...        ...    ...    ...       ...\n",
      "13529    terai      7      1       7.0\n",
      "13616    terai      9      1       9.0\n",
      "13636    terai      6      1       6.0\n",
      "13693    terai      6      1       6.0\n",
      "13734    terai      6      1       6.0\n",
      "\n",
      "[215 rows x 4 columns]\n"
     ]
    }
   ],
   "source": [
    "#Remove outliers\n",
    "from scipy import stats\n",
    "\n",
    "\n",
    "\n",
    "# Calculate the z-scores\n",
    "z_scores = stats.zscore(new_df['RoomProp'])\n",
    "\n",
    "# Define a threshold (e.g., 3) beyond which values are considered outliers\n",
    "threshold = 3\n",
    "\n",
    "# Identify and remove outliers\n",
    "outliers = new_df[(z_scores > threshold) | (z_scores < -threshold)]\n",
    "df_no_outliers = new_df[(z_scores <= threshold) & (z_scores >= -threshold)]\n",
    "\n",
    "print(\"Original DataFrame:\")\n",
    "print(new_df)\n",
    "print(\"\\nDataFrame without outliers:\")\n",
    "print(df_no_outliers)\n",
    "print(\"\\nOutliers:\")\n",
    "print(outliers)"
   ]
  },
  {
   "cell_type": "code",
   "execution_count": 11,
   "id": "599fc009",
   "metadata": {},
   "outputs": [
    {
     "data": {
      "image/png": "[encoded data removed]",
      "text/plain": [
       "<Figure size 640x480 with 1 Axes>"
      ]
     },
     "metadata": {},
     "output_type": "display_data"
    }
   ],
   "source": [
    "import seaborn as sns\n",
    "import matplotlib.pyplot as plt\n",
    "#Base visualization of the room proportion\n",
    "# Create a seaborn boxplot\n",
    "sns.boxplot(x='shecoreg', y='RoomProp', data=df_no_outliers)\n",
    "\n",
    "# Set labels and title\n",
    "plt.xlabel('Ecological Region')\n",
    "plt.ylabel('# of People Per Sleeping Room')\n",
    "\n",
    "# Show the plot\n",
    "plt.show()"
   ]
  },
  {
   "cell_type": "code",
   "execution_count": 15,
   "id": "ca586986",
   "metadata": {},
   "outputs": [
    {
     "data": {
      "text/plain": [
       "172      1.0\n",
       "173      3.0\n",
       "174      4.0\n",
       "175      2.5\n",
       "176      5.0\n",
       "        ... \n",
       "12962    3.0\n",
       "12963    1.5\n",
       "12964    3.0\n",
       "12965    2.5\n",
       "12966    3.0\n",
       "Name: RoomProp, Length: 6693, dtype: float64"
      ]
     },
     "execution_count": 15,
     "metadata": {},
     "output_type": "execute_result"
    }
   ],
   "source": [
    "new_df[\"RoomProp\"][new_df[\"shecoreg\"] == \"hill\"]"
   ]
  },
  {
   "cell_type": "code",
   "execution_count": 21,
   "id": "22bee358",
   "metadata": {},
   "outputs": [
    {
     "name": "stdout",
     "output_type": "stream",
     "text": [
      "TtestResult(statistic=-12.077722639968602, pvalue=2.1394640900280693e-33, df=12304.0)\n",
      "There is a significant difference between the two classes.\n"
     ]
    }
   ],
   "source": [
    "from scipy.stats import ttest_ind\n",
    "\n",
    "\n",
    "group_1 = df_no_outliers[\"RoomProp\"][df_no_outliers[\"shecoreg\"] == \"hill\"]\n",
    "group_2 = df_no_outliers[\"RoomProp\"][df_no_outliers[\"shecoreg\"] == \"terai\"]\n",
    "\n",
    "t_statistic, p_value = ttest_ind(group_1, group_2)\n",
    "\n",
    "print(ttest_ind(group_1, group_2))\n",
    "\n",
    "if p_value < 0.05:\n",
    "    print(\"There is a significant difference between the two classes.\")\n",
    "else:\n",
    "    print(\"There is no significant difference between the two classes.\")"
   ]
  },
  {
   "cell_type": "code",
   "execution_count": 22,
   "id": "f1e15c37",
   "metadata": {},
   "outputs": [
    {
     "name": "stdout",
     "output_type": "stream",
     "text": [
      "MannwhitneyuResult(statistic=16342883.5, pvalue=5.038624513760395e-37)\n",
      "There is a significant difference between the two classes.\n"
     ]
    }
   ],
   "source": [
    "from scipy.stats import mannwhitneyu\n",
    "\n",
    "u_statistic, p_value = mannwhitneyu(group_1, group_2)\n",
    "\n",
    "print(mannwhitneyu(group_1, group_2))\n",
    "\n",
    "if p_value < 0.05:\n",
    "    print(\"There is a significant difference between the two classes.\")\n",
    "else:\n",
    "    print(\"There is no significant difference between the two classes.\")"
   ]
  },
  {
   "cell_type": "code",
   "execution_count": 26,
   "id": "e50b1316",
   "metadata": {},
   "outputs": [
    {
     "data": {
      "text/plain": [
       "0.9946980876539233"
      ]
     },
     "execution_count": 26,
     "metadata": {},
     "output_type": "execute_result"
    }
   ],
   "source": [
    "import numpy as np\n",
    "np.var(group_1)"
   ]
  },
  {
   "cell_type": "code",
   "execution_count": 27,
   "id": "b92d0be1",
   "metadata": {},
   "outputs": [
    {
     "data": {
      "text/plain": [
       "1.096084240862349"
      ]
     },
     "execution_count": 27,
     "metadata": {},
     "output_type": "execute_result"
    }
   ],
   "source": [
    "np.var(group_2)"
   ]
  },
  {
   "cell_type": "code",
   "execution_count": 28,
   "id": "7ad776ce",
   "metadata": {},
   "outputs": [
    {
     "name": "stdout",
     "output_type": "stream",
     "text": [
      "Hill\n"
     ]
    },
    {
     "data": {
      "image/png": "[encoded data removed]",
      "text/plain": [
       "<Figure size 640x480 with 1 Axes>"
      ]
     },
     "metadata": {},
     "output_type": "display_data"
    }
   ],
   "source": [
    "import statsmodels.api as sm\n",
    "\n"
   ]
  },
  {
   "cell_type": "code",
   "execution_count": 29,
   "id": "fe050108",
   "metadata": {},
   "outputs": [
    {
     "name": "stdout",
     "output_type": "stream",
     "text": [
      "Terai\n"
     ]
    },
    {
     "data": {
      "image/png": "[encoded data removed]",
      "text/plain": [
       "<Figure size 640x480 with 1 Axes>"
      ]
     },
     "metadata": {},
     "output_type": "display_data"
    }
   ],
   "source": [
    "print(\"Terai\")\n",
    "sm.qqplot(np.array(group_2), line='s')\n",
    "plt.show()"
   ]
  }
 ],
 "metadata": {
  "kernelspec": {
   "display_name": "Python 3 (ipykernel)",
   "language": "python",
   "name": "python3"
  },
  "language_info": {
   "codemirror_mode": {
    "name": "ipython",
    "version": 3
   },
   "file_extension": ".py",
   "mimetype": "text/x-python",
   "name": "python",
   "nbconvert_exporter": "python",
   "pygments_lexer": "ipython3",
   "version": "3.11.5"
  }
 },
 "nbformat": 4,
 "nbformat_minor": 5
}
